{
  "nbformat": 4,
  "nbformat_minor": 0,
  "metadata": {
    "colab": {
      "provenance": [],
      "mount_file_id": "182dFp9MClsTbjxKZygQPh2vahM71tLwg",
      "authorship_tag": "ABX9TyPwID/2dO45M/9j0jiC8Rzu",
      "include_colab_link": true
    },
    "kernelspec": {
      "name": "python3",
      "display_name": "Python 3"
    },
    "language_info": {
      "name": "python"
    },
    "accelerator": "GPU",
    "gpuClass": "standard"
  },
  "cells": [
    {
      "cell_type": "markdown",
      "metadata": {
        "id": "view-in-github",
        "colab_type": "text"
      },
      "source": [
        "<a href=\"https://colab.research.google.com/github/panditamey1/nlp_refresher/blob/main/nlp_refresher_1.ipynb\" target=\"_parent\"><img src=\"https://colab.research.google.com/assets/colab-badge.svg\" alt=\"Open In Colab\"/></a>"
      ]
    },
    {
      "cell_type": "code",
      "execution_count": 1,
      "metadata": {
        "id": "JG--GYEli17g"
      },
      "outputs": [],
      "source": [
        "import numpy as np\n",
        "import pandas as pd\n",
        "\n",
        "from sklearn.feature_extraction.text import CountVectorizer, TfidfVectorizer \n",
        "from sklearn import metrics\n",
        "\n",
        "import string\n",
        "import spacy\n",
        "np.random.seed(42)"
      ]
    },
    {
      "cell_type": "code",
      "source": [
        "data = pd.read_csv(\"/content/drive/MyDrive/Colab Notebooks/jigsaw-toxic-comment-train.csv\")"
      ],
      "metadata": {
        "id": "RMc8pc3RjLVr"
      },
      "execution_count": 5,
      "outputs": []
    },
    {
      "cell_type": "code",
      "source": [
        "data.head()"
      ],
      "metadata": {
        "colab": {
          "base_uri": "https://localhost:8080/",
          "height": 320
        },
        "id": "wuTQfsKq4JkN",
        "outputId": "090702ee-db27-4280-f890-0f06059fabe4"
      },
      "execution_count": 6,
      "outputs": [
        {
          "output_type": "execute_result",
          "data": {
            "text/plain": [
              "                 id                                       comment_text  toxic  \\\n",
              "0  0000997932d777bf  Explanation\\nWhy the edits made under my usern...      0   \n",
              "1  000103f0d9cfb60f  D'aww! He matches this background colour I'm s...      0   \n",
              "2  000113f07ec002fd  Hey man, I'm really not trying to edit war. It...      0   \n",
              "3  0001b41b1c6bb37e  \"\\nMore\\nI can't make any real suggestions on ...      0   \n",
              "4  0001d958c54c6e35  You, sir, are my hero. Any chance you remember...      0   \n",
              "\n",
              "   severe_toxic  obscene  threat  insult  identity_hate  \n",
              "0             0        0       0       0              0  \n",
              "1             0        0       0       0              0  \n",
              "2             0        0       0       0              0  \n",
              "3             0        0       0       0              0  \n",
              "4             0        0       0       0              0  "
            ],
            "text/html": [
              "\n",
              "  <div id=\"df-a3454146-5e22-4825-8cd0-0ec8d6cddf47\">\n",
              "    <div class=\"colab-df-container\">\n",
              "      <div>\n",
              "<style scoped>\n",
              "    .dataframe tbody tr th:only-of-type {\n",
              "        vertical-align: middle;\n",
              "    }\n",
              "\n",
              "    .dataframe tbody tr th {\n",
              "        vertical-align: top;\n",
              "    }\n",
              "\n",
              "    .dataframe thead th {\n",
              "        text-align: right;\n",
              "    }\n",
              "</style>\n",
              "<table border=\"1\" class=\"dataframe\">\n",
              "  <thead>\n",
              "    <tr style=\"text-align: right;\">\n",
              "      <th></th>\n",
              "      <th>id</th>\n",
              "      <th>comment_text</th>\n",
              "      <th>toxic</th>\n",
              "      <th>severe_toxic</th>\n",
              "      <th>obscene</th>\n",
              "      <th>threat</th>\n",
              "      <th>insult</th>\n",
              "      <th>identity_hate</th>\n",
              "    </tr>\n",
              "  </thead>\n",
              "  <tbody>\n",
              "    <tr>\n",
              "      <th>0</th>\n",
              "      <td>0000997932d777bf</td>\n",
              "      <td>Explanation\\nWhy the edits made under my usern...</td>\n",
              "      <td>0</td>\n",
              "      <td>0</td>\n",
              "      <td>0</td>\n",
              "      <td>0</td>\n",
              "      <td>0</td>\n",
              "      <td>0</td>\n",
              "    </tr>\n",
              "    <tr>\n",
              "      <th>1</th>\n",
              "      <td>000103f0d9cfb60f</td>\n",
              "      <td>D'aww! He matches this background colour I'm s...</td>\n",
              "      <td>0</td>\n",
              "      <td>0</td>\n",
              "      <td>0</td>\n",
              "      <td>0</td>\n",
              "      <td>0</td>\n",
              "      <td>0</td>\n",
              "    </tr>\n",
              "    <tr>\n",
              "      <th>2</th>\n",
              "      <td>000113f07ec002fd</td>\n",
              "      <td>Hey man, I'm really not trying to edit war. It...</td>\n",
              "      <td>0</td>\n",
              "      <td>0</td>\n",
              "      <td>0</td>\n",
              "      <td>0</td>\n",
              "      <td>0</td>\n",
              "      <td>0</td>\n",
              "    </tr>\n",
              "    <tr>\n",
              "      <th>3</th>\n",
              "      <td>0001b41b1c6bb37e</td>\n",
              "      <td>\"\\nMore\\nI can't make any real suggestions on ...</td>\n",
              "      <td>0</td>\n",
              "      <td>0</td>\n",
              "      <td>0</td>\n",
              "      <td>0</td>\n",
              "      <td>0</td>\n",
              "      <td>0</td>\n",
              "    </tr>\n",
              "    <tr>\n",
              "      <th>4</th>\n",
              "      <td>0001d958c54c6e35</td>\n",
              "      <td>You, sir, are my hero. Any chance you remember...</td>\n",
              "      <td>0</td>\n",
              "      <td>0</td>\n",
              "      <td>0</td>\n",
              "      <td>0</td>\n",
              "      <td>0</td>\n",
              "      <td>0</td>\n",
              "    </tr>\n",
              "  </tbody>\n",
              "</table>\n",
              "</div>\n",
              "      <button class=\"colab-df-convert\" onclick=\"convertToInteractive('df-a3454146-5e22-4825-8cd0-0ec8d6cddf47')\"\n",
              "              title=\"Convert this dataframe to an interactive table.\"\n",
              "              style=\"display:none;\">\n",
              "        \n",
              "  <svg xmlns=\"http://www.w3.org/2000/svg\" height=\"24px\"viewBox=\"0 0 24 24\"\n",
              "       width=\"24px\">\n",
              "    <path d=\"M0 0h24v24H0V0z\" fill=\"none\"/>\n",
              "    <path d=\"M18.56 5.44l.94 2.06.94-2.06 2.06-.94-2.06-.94-.94-2.06-.94 2.06-2.06.94zm-11 1L8.5 8.5l.94-2.06 2.06-.94-2.06-.94L8.5 2.5l-.94 2.06-2.06.94zm10 10l.94 2.06.94-2.06 2.06-.94-2.06-.94-.94-2.06-.94 2.06-2.06.94z\"/><path d=\"M17.41 7.96l-1.37-1.37c-.4-.4-.92-.59-1.43-.59-.52 0-1.04.2-1.43.59L10.3 9.45l-7.72 7.72c-.78.78-.78 2.05 0 2.83L4 21.41c.39.39.9.59 1.41.59.51 0 1.02-.2 1.41-.59l7.78-7.78 2.81-2.81c.8-.78.8-2.07 0-2.86zM5.41 20L4 18.59l7.72-7.72 1.47 1.35L5.41 20z\"/>\n",
              "  </svg>\n",
              "      </button>\n",
              "      \n",
              "  <style>\n",
              "    .colab-df-container {\n",
              "      display:flex;\n",
              "      flex-wrap:wrap;\n",
              "      gap: 12px;\n",
              "    }\n",
              "\n",
              "    .colab-df-convert {\n",
              "      background-color: #E8F0FE;\n",
              "      border: none;\n",
              "      border-radius: 50%;\n",
              "      cursor: pointer;\n",
              "      display: none;\n",
              "      fill: #1967D2;\n",
              "      height: 32px;\n",
              "      padding: 0 0 0 0;\n",
              "      width: 32px;\n",
              "    }\n",
              "\n",
              "    .colab-df-convert:hover {\n",
              "      background-color: #E2EBFA;\n",
              "      box-shadow: 0px 1px 2px rgba(60, 64, 67, 0.3), 0px 1px 3px 1px rgba(60, 64, 67, 0.15);\n",
              "      fill: #174EA6;\n",
              "    }\n",
              "\n",
              "    [theme=dark] .colab-df-convert {\n",
              "      background-color: #3B4455;\n",
              "      fill: #D2E3FC;\n",
              "    }\n",
              "\n",
              "    [theme=dark] .colab-df-convert:hover {\n",
              "      background-color: #434B5C;\n",
              "      box-shadow: 0px 1px 3px 1px rgba(0, 0, 0, 0.15);\n",
              "      filter: drop-shadow(0px 1px 2px rgba(0, 0, 0, 0.3));\n",
              "      fill: #FFFFFF;\n",
              "    }\n",
              "  </style>\n",
              "\n",
              "      <script>\n",
              "        const buttonEl =\n",
              "          document.querySelector('#df-a3454146-5e22-4825-8cd0-0ec8d6cddf47 button.colab-df-convert');\n",
              "        buttonEl.style.display =\n",
              "          google.colab.kernel.accessAllowed ? 'block' : 'none';\n",
              "\n",
              "        async function convertToInteractive(key) {\n",
              "          const element = document.querySelector('#df-a3454146-5e22-4825-8cd0-0ec8d6cddf47');\n",
              "          const dataTable =\n",
              "            await google.colab.kernel.invokeFunction('convertToInteractive',\n",
              "                                                     [key], {});\n",
              "          if (!dataTable) return;\n",
              "\n",
              "          const docLinkHtml = 'Like what you see? Visit the ' +\n",
              "            '<a target=\"_blank\" href=https://colab.research.google.com/notebooks/data_table.ipynb>data table notebook</a>'\n",
              "            + ' to learn more about interactive tables.';\n",
              "          element.innerHTML = '';\n",
              "          dataTable['output_type'] = 'display_data';\n",
              "          await google.colab.output.renderOutput(dataTable, element);\n",
              "          const docLink = document.createElement('div');\n",
              "          docLink.innerHTML = docLinkHtml;\n",
              "          element.appendChild(docLink);\n",
              "        }\n",
              "      </script>\n",
              "    </div>\n",
              "  </div>\n",
              "  "
            ]
          },
          "metadata": {},
          "execution_count": 6
        }
      ]
    },
    {
      "cell_type": "code",
      "source": [
        "data = data[:5000]"
      ],
      "metadata": {
        "id": "cU9-iZ48IhYm"
      },
      "execution_count": 25,
      "outputs": []
    },
    {
      "cell_type": "code",
      "source": [
        "nlp = spacy.load(\"en_core_web_sm\")\n"
      ],
      "metadata": {
        "id": "-uFn8pCw4LNU"
      },
      "execution_count": 26,
      "outputs": []
    },
    {
      "cell_type": "code",
      "source": [
        "stop_words = nlp.Defaults.stop_words"
      ],
      "metadata": {
        "id": "dKHxYUOQ5Uln"
      },
      "execution_count": 27,
      "outputs": []
    },
    {
      "cell_type": "code",
      "source": [
        "print(stop_words)"
      ],
      "metadata": {
        "colab": {
          "base_uri": "https://localhost:8080/"
        },
        "id": "T3UkL0la5evJ",
        "outputId": "b360b2bc-d9e1-4350-a235-4f603f33c4dc"
      },
      "execution_count": 28,
      "outputs": [
        {
          "output_type": "stream",
          "name": "stdout",
          "text": [
            "{'nor', 'by', 'whether', 'anyway', 'your', 'together', 'elsewhere', 'rather', 'bottom', 'seem', 'using', 'very', 'all', '‘ve', 'yourself', 'has', 'four', 'been', 'nevertheless', 'everyone', 'might', 'what', 'still', \"'ll\", 'must', 'perhaps', 'per', 'other', 'are', 'us', 'hereupon', 'themselves', 'moreover', 'also', 'whenever', 'fifteen', 'few', 'same', 'part', 'becoming', 'she', 'quite', '‘m', 'nothing', 'put', 'as', 'next', 'nine', 'please', 'for', 'seeming', 'whatever', 'full', 'behind', 'get', 'unless', 'ca', 'somewhere', 'anyone', 'whoever', 'this', '‘ll', 'is', 'two', 'these', 'last', 'there', 'regarding', 'could', 'here', 'our', 'whereby', 'whereafter', 'why', 'against', 'ourselves', 'fifty', 'had', 'became', '‘re', 'give', 'one', 'nowhere', 'third', 'whither', 'first', 'else', 'neither', 'someone', 'go', 'i', '‘d', 'seems', 'whence', 'after', 'yet', 'already', 'either', 'yours', 'now', 'at', 'much', 'them', 'so', 'serious', 'cannot', \"'ve\", 'its', 'too', 'otherwise', 'when', 'since', 'where', 'and', 'below', 'a', 'amongst', 'my', 'well', 'many', 'back', \"n't\", 'alone', 'thereby', 'whom', 'who', 'about', 'wherever', 'via', 'enough', '’re', 'beside', 'in', 'not', 'am', 'be', 'myself', 'may', \"'d\", 'thru', '’d', 'from', 'five', 'any', 'made', 'over', 'almost', 'across', 'herein', 'an', 'will', 'some', 'forty', 'those', 'see', 'towards', 'others', 'again', 'former', 'no', 'then', 'make', 'up', 'ours', 'therein', 'never', 'everywhere', 'often', 'between', 'with', 'front', 'formerly', 'doing', 'afterwards', 'than', 'that', 'own', 'me', 'more', 'however', 'around', 'anyhow', 'himself', 'was', 'least', 'should', 'wherein', 'before', 'hundred', 'top', 'hereby', 'amount', 'ever', 'toward', 'to', 'or', 'once', 'while', 'become', 'were', 'meanwhile', 'within', 'her', 'except', 'n‘t', 'although', 'most', 'onto', 'always', 'twenty', 'thereafter', 'him', 'it', 'hers', 'show', 'whereas', 'until', 'latterly', 'namely', 'every', 'call', 'itself', 'mine', 'on', 'only', 'seemed', 'he', 'n’t', 'latter', 'empty', 'thence', 'eleven', 'hereafter', 'indeed', 'would', 'because', 'though', 'have', 'his', 'ten', 'beyond', 'each', 'we', \"'s\", 'can', 'anywhere', 'really', 'none', 'name', 'both', 'if', 'whereupon', 'everything', 'throughout', 'under', 'keep', 'out', 'somehow', 'mostly', 'noone', 'along', 'another', 'did', 'whole', 'upon', 'being', 'such', 'they', 'take', 'their', 'sixty', '‘s', 'above', 'side', 'say', 'even', 'herself', 'without', 'whose', 'but', 'sometimes', 'into', 'done', 'three', 'through', 'does', \"'m\", 'thereupon', '’m', 'less', 're', '’ve', 'the', 'thus', 'besides', 'among', 'which', 'off', '’s', '’ll', 'during', 'hence', 'do', 'how', 'various', \"'re\", 'used', 'further', 'several', 'twelve', 'yourselves', 'something', 'you', 'just', 'move', 'due', 'anything', 'eight', 'nobody', 'six', 'therefore', 'down', 'sometime', 'beforehand', 'becomes', 'of'}\n"
          ]
        }
      ]
    },
    {
      "cell_type": "code",
      "source": [
        "punctuation = string.punctuation"
      ],
      "metadata": {
        "id": "fD8-MzxZ5iU9"
      },
      "execution_count": 29,
      "outputs": []
    },
    {
      "cell_type": "code",
      "source": [
        "print(punctuation)"
      ],
      "metadata": {
        "colab": {
          "base_uri": "https://localhost:8080/"
        },
        "id": "QnRAjusO55Qh",
        "outputId": "da25d449-a291-40e2-ea03-55f224099fdc"
      },
      "execution_count": 30,
      "outputs": [
        {
          "output_type": "stream",
          "name": "stdout",
          "text": [
            "!\"#$%&'()*+,-./:;<=>?@[\\]^_`{|}~\n"
          ]
        }
      ]
    },
    {
      "cell_type": "code",
      "source": [
        "# Tokenizer function\n",
        "#s = \"Harry is a ,triwizard champion.\"\n",
        "#doc = nlp(s)\n",
        "#my_words = [word.lemma_.lower().strip() for word in doc]\n",
        "#print(my_words)\n",
        "#final_words = [word for word in my_words if word not in stop_words and word not in punctuation]\n",
        "#print(final_words)\n",
        "\n",
        "def spacy_tokenizer(sentence):\n",
        "  doc = nlp(sentence)\n",
        "  #lemma_ = root word \n",
        "  my_tokens = [word.lemma_.lower().strip() for word in doc]\n",
        "\n",
        "  final_words = [word for word in my_tokens if word not in stop_words and word not in punctuation]\n",
        "\n",
        "  return final_words\n"
      ],
      "metadata": {
        "id": "J6dLO_GL58Pd"
      },
      "execution_count": 31,
      "outputs": []
    },
    {
      "cell_type": "code",
      "source": [
        "s = \"Harry is a ,triwizard champion.\"\n",
        "spacy_tokenizer(s)"
      ],
      "metadata": {
        "colab": {
          "base_uri": "https://localhost:8080/"
        },
        "id": "fUNMKTnB6hN4",
        "outputId": "be25b716-011a-4b9d-b322-d46f6fcba07d"
      },
      "execution_count": 32,
      "outputs": [
        {
          "output_type": "execute_result",
          "data": {
            "text/plain": [
              "['harry', 'triwizard', 'champion']"
            ]
          },
          "metadata": {},
          "execution_count": 32
        }
      ]
    },
    {
      "cell_type": "code",
      "source": [
        "count_vector = CountVectorizer(tokenizer = spacy_tokenizer)\n"
      ],
      "metadata": {
        "id": "jH_dCcdt8I2A"
      },
      "execution_count": 33,
      "outputs": []
    },
    {
      "cell_type": "code",
      "source": [
        "count_vector.fit_transform([\"I can be harry Potter.; YOu know\", \"My passport works better in Canada\"])"
      ],
      "metadata": {
        "colab": {
          "base_uri": "https://localhost:8080/"
        },
        "id": "56_ymuQc8ZDm",
        "outputId": "6a4fe3ee-8ed7-42dc-c03f-cd6796216c10"
      },
      "execution_count": 34,
      "outputs": [
        {
          "output_type": "execute_result",
          "data": {
            "text/plain": [
              "<2x6 sparse matrix of type '<class 'numpy.int64'>'\n",
              "\twith 6 stored elements in Compressed Sparse Row format>"
            ]
          },
          "metadata": {},
          "execution_count": 34
        }
      ]
    },
    {
      "cell_type": "code",
      "source": [
        "count_vector.fit_transform([\"I can be harry Potter.; YOu know\", \"My passport works better in Canada\"]).toarray()"
      ],
      "metadata": {
        "colab": {
          "base_uri": "https://localhost:8080/"
        },
        "id": "jBggn8kb8m4b",
        "outputId": "38498281-08bf-45ea-daf4-a03c07a50524"
      },
      "execution_count": 35,
      "outputs": [
        {
          "output_type": "execute_result",
          "data": {
            "text/plain": [
              "array([[0, 1, 1, 0, 1, 0],\n",
              "       [1, 0, 0, 1, 0, 1]])"
            ]
          },
          "metadata": {},
          "execution_count": 35
        }
      ]
    },
    {
      "cell_type": "code",
      "source": [
        "count_vector.get_feature_names_out()"
      ],
      "metadata": {
        "colab": {
          "base_uri": "https://localhost:8080/"
        },
        "id": "sLGDFWBE8urz",
        "outputId": "43d2ce20-9cea-46e6-879e-1925738ba61e"
      },
      "execution_count": 36,
      "outputs": [
        {
          "output_type": "execute_result",
          "data": {
            "text/plain": [
              "array(['canada', 'harry', 'know', 'passport', 'potter', 'work'],\n",
              "      dtype=object)"
            ]
          },
          "metadata": {},
          "execution_count": 36
        }
      ]
    },
    {
      "cell_type": "code",
      "source": [
        "count_vector.vocabulary_"
      ],
      "metadata": {
        "colab": {
          "base_uri": "https://localhost:8080/"
        },
        "id": "2bQGsnOJ9CJS",
        "outputId": "1ea91bb4-87f7-4498-f90f-d48173d60891"
      },
      "execution_count": 37,
      "outputs": [
        {
          "output_type": "execute_result",
          "data": {
            "text/plain": [
              "{'harry': 1, 'potter': 4, 'know': 2, 'passport': 3, 'work': 5, 'canada': 0}"
            ]
          },
          "metadata": {},
          "execution_count": 37
        }
      ]
    },
    {
      "cell_type": "markdown",
      "source": [
        "### Split data"
      ],
      "metadata": {
        "id": "Aasi6mIv98r_"
      }
    },
    {
      "cell_type": "code",
      "source": [
        "from sklearn.model_selection import train_test_split\n",
        "\n",
        "x = data[\"comment_text\"]\n",
        "y = data[\"toxic\"]\n",
        "\n"
      ],
      "metadata": {
        "id": "YxsN4fVU9c7j"
      },
      "execution_count": 38,
      "outputs": []
    },
    {
      "cell_type": "code",
      "source": [
        "x_train, x_test, y_train, y_test = train_test_split(x,y, test_size = 0.2, stratify = y)"
      ],
      "metadata": {
        "id": "W0cXB5h7-U6N"
      },
      "execution_count": 39,
      "outputs": []
    },
    {
      "cell_type": "code",
      "source": [
        "x_train.head()"
      ],
      "metadata": {
        "colab": {
          "base_uri": "https://localhost:8080/"
        },
        "id": "UBu4iE87-prf",
        "outputId": "6ebf3859-a5af-477e-ab0e-9c0e54d0641f"
      },
      "execution_count": 40,
      "outputs": [
        {
          "output_type": "execute_result",
          "data": {
            "text/plain": [
              "553     iPad talk page \\n\\nWhy did you remove that IP'...\n",
              "2483                                Bold text Italic text\n",
              "1796    No big deal , essentially you have re-added a ...\n",
              "4952    (posted on the discussion page at 00:31 UTC on...\n",
              "1030    Proposed approach \\n\\nThis section is intended...\n",
              "Name: comment_text, dtype: object"
            ]
          },
          "metadata": {},
          "execution_count": 40
        }
      ]
    },
    {
      "cell_type": "code",
      "source": [
        "from sklearn.linear_model import LogisticRegression\n",
        "\n",
        "classifier = LogisticRegression()\n"
      ],
      "metadata": {
        "id": "aSww1Yfw-wxU"
      },
      "execution_count": 41,
      "outputs": []
    },
    {
      "cell_type": "code",
      "source": [
        "x_train_vectors = count_vector.fit_transform(x_train)\n",
        "x_test_vectors = count_vector.transform(x_test)"
      ],
      "metadata": {
        "id": "ANBfuknY_DZY"
      },
      "execution_count": 42,
      "outputs": []
    },
    {
      "cell_type": "code",
      "source": [
        "x_train_vectors.shape"
      ],
      "metadata": {
        "colab": {
          "base_uri": "https://localhost:8080/"
        },
        "id": "-VEbVD21_Vdq",
        "outputId": "fb9f1441-e7b1-41dc-b776-9435f6e06dcb"
      },
      "execution_count": 43,
      "outputs": [
        {
          "output_type": "execute_result",
          "data": {
            "text/plain": [
              "(4000, 18933)"
            ]
          },
          "metadata": {},
          "execution_count": 43
        }
      ]
    },
    {
      "cell_type": "code",
      "source": [
        "x_test_vectors.shape\n"
      ],
      "metadata": {
        "colab": {
          "base_uri": "https://localhost:8080/"
        },
        "id": "3sDbNkJ4_blG",
        "outputId": "12b6e17f-04e1-4f7c-aa51-9bf01ab3497e"
      },
      "execution_count": 44,
      "outputs": [
        {
          "output_type": "execute_result",
          "data": {
            "text/plain": [
              "(1000, 18933)"
            ]
          },
          "metadata": {},
          "execution_count": 44
        }
      ]
    },
    {
      "cell_type": "code",
      "source": [],
      "metadata": {
        "id": "FQrrX1Za_mS-"
      },
      "execution_count": 44,
      "outputs": []
    },
    {
      "cell_type": "code",
      "source": [
        "classifier.fit(x_train_vectors, y_train)"
      ],
      "metadata": {
        "colab": {
          "base_uri": "https://localhost:8080/"
        },
        "id": "KdEQhNOv_drp",
        "outputId": "8a087471-2be4-4eb8-8ddc-c34ba274fec5"
      },
      "execution_count": 45,
      "outputs": [
        {
          "output_type": "execute_result",
          "data": {
            "text/plain": [
              "LogisticRegression()"
            ]
          },
          "metadata": {},
          "execution_count": 45
        }
      ]
    },
    {
      "cell_type": "code",
      "source": [
        "predicted = classifier.predict(x_test_vectors)\n"
      ],
      "metadata": {
        "id": "Mdhtxpqr_nDM"
      },
      "execution_count": 46,
      "outputs": []
    },
    {
      "cell_type": "code",
      "source": [
        "print(\"accuracy : \", metrics.accuracy_score(y_test,predicted) )\n",
        "print(\"precision : \", metrics.precision_score(y_test,predicted))\n",
        "print(\"recall : \", metrics.recall_score(y_test,predicted))"
      ],
      "metadata": {
        "colab": {
          "base_uri": "https://localhost:8080/"
        },
        "id": "Eeuj1oSJIRXU",
        "outputId": "59b40b1a-0106-4a3d-e1ab-9181a76214be"
      },
      "execution_count": 47,
      "outputs": [
        {
          "output_type": "stream",
          "name": "stdout",
          "text": [
            "accuracy :  0.931\n",
            "precision :  0.8478260869565217\n",
            "recall :  0.38613861386138615\n"
          ]
        }
      ]
    },
    {
      "cell_type": "markdown",
      "source": [
        "### tf idf"
      ],
      "metadata": {
        "id": "iexGHVZjJw3u"
      }
    },
    {
      "cell_type": "code",
      "source": [
        "tfidf_vector = TfidfVectorizer(tokenizer = spacy_tokenizer)\n",
        "\n",
        "\n",
        "\n"
      ],
      "metadata": {
        "id": "crBwzkpHJZ7o"
      },
      "execution_count": 48,
      "outputs": []
    },
    {
      "cell_type": "code",
      "source": [
        "xtrain_tfidf_vectors = tfidf_vector.fit_transform(x_train)\n",
        "xtest_tfidf_vectors = tfidf_vector.transform(x_test)"
      ],
      "metadata": {
        "id": "r0kOyCp9NEGA"
      },
      "execution_count": 49,
      "outputs": []
    },
    {
      "cell_type": "code",
      "source": [
        "xtrain_tfidf_vectors.shape\n",
        "y_train.shape"
      ],
      "metadata": {
        "colab": {
          "base_uri": "https://localhost:8080/"
        },
        "id": "3MIwBU_kNXYC",
        "outputId": "54b8c292-d48d-4183-f76c-19cd8e642bdc"
      },
      "execution_count": 53,
      "outputs": [
        {
          "output_type": "execute_result",
          "data": {
            "text/plain": [
              "(4000,)"
            ]
          },
          "metadata": {},
          "execution_count": 53
        }
      ]
    },
    {
      "cell_type": "code",
      "source": [
        "tfidf_classifier = LogisticRegression()\n",
        "\n",
        "tfidf_classifier.fit(xtrain_tfidf_vectors,y_train)\n",
        "\n",
        "predicted_tfidf = tfidf_classifier.predict(xtest_tfidf_vectors)\n"
      ],
      "metadata": {
        "id": "HOuxQ3HSNZBq"
      },
      "execution_count": 51,
      "outputs": []
    },
    {
      "cell_type": "code",
      "source": [
        "print(\"tfidf accuracy  : \", metrics.accuracy_score(y_test, predicted_tfidf))\n",
        "print(\"tfidf precision  : \", metrics.precision_score(y_test, predicted_tfidf))\n",
        "print(\"tfidf recall  : \", metrics.recall_score(y_test, predicted_tfidf))\n"
      ],
      "metadata": {
        "colab": {
          "base_uri": "https://localhost:8080/"
        },
        "id": "z1gYP10dN_7c",
        "outputId": "625d2c88-5b7e-4658-941d-cc8b3e575571"
      },
      "execution_count": 52,
      "outputs": [
        {
          "output_type": "stream",
          "name": "stdout",
          "text": [
            "tfidf accuracy  :  0.916\n",
            "tfidf precision  :  1.0\n",
            "tfidf recall  :  0.16831683168316833\n"
          ]
        }
      ]
    },
    {
      "cell_type": "code",
      "source": [],
      "metadata": {
        "id": "COQ7_TsAOV7o"
      },
      "execution_count": null,
      "outputs": []
    }
  ]
}